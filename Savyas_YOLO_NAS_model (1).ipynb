{
  "nbformat": 4,
  "nbformat_minor": 0,
  "metadata": {
    "colab": {
      "provenance": [],
      "gpuType": "T4"
    },
    "kernelspec": {
      "name": "python3",
      "display_name": "Python 3"
    },
    "language_info": {
      "name": "python"
    },
    "accelerator": "GPU"
  },
  "cells": [
    {
      "cell_type": "code",
      "execution_count": 1,
      "metadata": {
        "colab": {
          "base_uri": "https://localhost:8080/"
        },
        "id": "j8G4ddGs4_0m",
        "outputId": "b5e815ee-9f6e-4fcb-f274-70c52a245dcf"
      },
      "outputs": [
        {
          "output_type": "stream",
          "name": "stdout",
          "text": [
            "Fri Oct 27 10:15:54 2023       \n",
            "+-----------------------------------------------------------------------------+\n",
            "| NVIDIA-SMI 525.105.17   Driver Version: 525.105.17   CUDA Version: 12.0     |\n",
            "|-------------------------------+----------------------+----------------------+\n",
            "| GPU  Name        Persistence-M| Bus-Id        Disp.A | Volatile Uncorr. ECC |\n",
            "| Fan  Temp  Perf  Pwr:Usage/Cap|         Memory-Usage | GPU-Util  Compute M. |\n",
            "|                               |                      |               MIG M. |\n",
            "|===============================+======================+======================|\n",
            "|   0  Tesla T4            Off  | 00000000:00:04.0 Off |                    0 |\n",
            "| N/A   66C    P8    11W /  70W |      0MiB / 15360MiB |      0%      Default |\n",
            "|                               |                      |                  N/A |\n",
            "+-------------------------------+----------------------+----------------------+\n",
            "                                                                               \n",
            "+-----------------------------------------------------------------------------+\n",
            "| Processes:                                                                  |\n",
            "|  GPU   GI   CI        PID   Type   Process name                  GPU Memory |\n",
            "|        ID   ID                                                   Usage      |\n",
            "|=============================================================================|\n",
            "|  No running processes found                                                 |\n",
            "+-----------------------------------------------------------------------------+\n"
          ]
        }
      ],
      "source": [
        "!nvidia-smi"
      ]
    },
    {
      "cell_type": "code",
      "source": [
        "!pip install -q git+https://github.com/Deci-AI/super-gradients.git@stable\n",
        "!pip install -q roboflow\n",
        "!pip install -q supervision"
      ],
      "metadata": {
        "colab": {
          "base_uri": "https://localhost:8080/"
        },
        "id": "cUOaa3W16EKk",
        "outputId": "7ee9c6e2-f52c-44ab-ff1f-b6c13dda8bfe"
      },
      "execution_count": 2,
      "outputs": [
        {
          "output_type": "stream",
          "name": "stdout",
          "text": [
            "  Installing build dependencies ... \u001b[?25l\u001b[?25hdone\n",
            "  Getting requirements to build wheel ... \u001b[?25l\u001b[?25hdone\n",
            "  Preparing metadata (pyproject.toml) ... \u001b[?25l\u001b[?25hdone\n",
            "\u001b[2K     \u001b[90m━━━━━━━━━━━━━━━━━━━━━━━━━━━━━━━━━━━━━━━━\u001b[0m \u001b[32m135.8/135.8 kB\u001b[0m \u001b[31m3.3 MB/s\u001b[0m eta \u001b[36m0:00:00\u001b[0m\n",
            "\u001b[2K     \u001b[90m━━━━━━━━━━━━━━━━━━━━━━━━━━━━━━━━━━━━━━━━\u001b[0m \u001b[32m684.5/684.5 kB\u001b[0m \u001b[31m9.1 MB/s\u001b[0m eta \u001b[36m0:00:00\u001b[0m\n",
            "\u001b[?25h  Preparing metadata (setup.py) ... \u001b[?25l\u001b[?25hdone\n",
            "\u001b[2K     \u001b[90m━━━━━━━━━━━━━━━━━━━━━━━━━━━━━━━━━━━━━━━━\u001b[0m \u001b[32m2.9/2.9 MB\u001b[0m \u001b[31m18.5 MB/s\u001b[0m eta \u001b[36m0:00:00\u001b[0m\n",
            "\u001b[2K     \u001b[90m━━━━━━━━━━━━━━━━━━━━━━━━━━━━━━━━━━━━━━━━\u001b[0m \u001b[32m2.8/2.8 MB\u001b[0m \u001b[31m31.8 MB/s\u001b[0m eta \u001b[36m0:00:00\u001b[0m\n",
            "\u001b[2K     \u001b[90m━━━━━━━━━━━━━━━━━━━━━━━━━━━━━━━━━━━━━━━━\u001b[0m \u001b[32m408.6/408.6 kB\u001b[0m \u001b[31m25.9 MB/s\u001b[0m eta \u001b[36m0:00:00\u001b[0m\n",
            "\u001b[2K     \u001b[90m━━━━━━━━━━━━━━━━━━━━━━━━━━━━━━━━━━━━━━━━\u001b[0m \u001b[32m154.5/154.5 kB\u001b[0m \u001b[31m18.1 MB/s\u001b[0m eta \u001b[36m0:00:00\u001b[0m\n",
            "\u001b[2K     \u001b[90m━━━━━━━━━━━━━━━━━━━━━━━━━━━━━━━━━━━━━━━━\u001b[0m \u001b[32m79.5/79.5 kB\u001b[0m \u001b[31m10.2 MB/s\u001b[0m eta \u001b[36m0:00:00\u001b[0m\n",
            "\u001b[2K     \u001b[90m━━━━━━━━━━━━━━━━━━━━━━━━━━━━━━━━━━━━━━━━\u001b[0m \u001b[32m4.5/4.5 MB\u001b[0m \u001b[31m53.3 MB/s\u001b[0m eta \u001b[36m0:00:00\u001b[0m\n",
            "\u001b[2K     \u001b[90m━━━━━━━━━━━━━━━━━━━━━━━━━━━━━━━━━━━━━━━━\u001b[0m \u001b[32m13.5/13.5 MB\u001b[0m \u001b[31m80.8 MB/s\u001b[0m eta \u001b[36m0:00:00\u001b[0m\n",
            "\u001b[2K     \u001b[90m━━━━━━━━━━━━━━━━━━━━━━━━━━━━━━━━━━━━━━━━\u001b[0m \u001b[32m68.0/68.0 kB\u001b[0m \u001b[31m9.0 MB/s\u001b[0m eta \u001b[36m0:00:00\u001b[0m\n",
            "\u001b[?25h  Installing build dependencies ... \u001b[?25l\u001b[?25hdone\n",
            "  Getting requirements to build wheel ... \u001b[?25l\u001b[?25hdone\n",
            "  Preparing metadata (pyproject.toml) ... \u001b[?25l\u001b[?25hdone\n",
            "  Preparing metadata (setup.py) ... \u001b[?25l\u001b[?25hdone\n",
            "  Preparing metadata (setup.py) ... \u001b[?25l\u001b[?25hdone\n",
            "  Preparing metadata (setup.py) ... \u001b[?25l\u001b[?25hdone\n",
            "\u001b[2K     \u001b[90m━━━━━━━━━━━━━━━━━━━━━━━━━━━━━━━━━━━━━━━━\u001b[0m \u001b[32m17.0/17.0 MB\u001b[0m \u001b[31m68.2 MB/s\u001b[0m eta \u001b[36m0:00:00\u001b[0m\n",
            "\u001b[2K     \u001b[90m━━━━━━━━━━━━━━━━━━━━━━━━━━━━━━━━━━━━━━━━\u001b[0m \u001b[32m3.2/3.2 MB\u001b[0m \u001b[31m52.9 MB/s\u001b[0m eta \u001b[36m0:00:00\u001b[0m\n",
            "\u001b[2K     \u001b[90m━━━━━━━━━━━━━━━━━━━━━━━━━━━━━━━━━━━━━━━━\u001b[0m \u001b[32m2.2/2.2 MB\u001b[0m \u001b[31m104.9 MB/s\u001b[0m eta \u001b[36m0:00:00\u001b[0m\n",
            "\u001b[2K     \u001b[90m━━━━━━━━━━━━━━━━━━━━━━━━━━━━━━━━━━━━━━━━\u001b[0m \u001b[32m455.0/455.0 kB\u001b[0m \u001b[31m45.4 MB/s\u001b[0m eta \u001b[36m0:00:00\u001b[0m\n",
            "\u001b[2K     \u001b[90m━━━━━━━━━━━━━━━━━━━━━━━━━━━━━━━━━━━━━━━━\u001b[0m \u001b[32m46.0/46.0 kB\u001b[0m \u001b[31m5.6 MB/s\u001b[0m eta \u001b[36m0:00:00\u001b[0m\n",
            "\u001b[2K     \u001b[90m━━━━━━━━━━━━━━━━━━━━━━━━━━━━━━━━━━━━━━━━\u001b[0m \u001b[32m11.3/11.3 MB\u001b[0m \u001b[31m111.3 MB/s\u001b[0m eta \u001b[36m0:00:00\u001b[0m\n",
            "\u001b[2K     \u001b[90m━━━━━━━━━━━━━━━━━━━━━━━━━━━━━━━━━━━━━━━━\u001b[0m \u001b[32m79.8/79.8 kB\u001b[0m \u001b[31m10.7 MB/s\u001b[0m eta \u001b[36m0:00:00\u001b[0m\n",
            "\u001b[2K     \u001b[90m━━━━━━━━━━━━━━━━━━━━━━━━━━━━━━━━━━━━━━━━\u001b[0m \u001b[32m108.3/108.3 kB\u001b[0m \u001b[31m14.9 MB/s\u001b[0m eta \u001b[36m0:00:00\u001b[0m\n",
            "\u001b[?25h  Preparing metadata (setup.py) ... \u001b[?25l\u001b[?25hdone\n",
            "\u001b[2K     \u001b[90m━━━━━━━━━━━━━━━━━━━━━━━━━━━━━━━━━━━━━━━━\u001b[0m \u001b[32m176.0/176.0 kB\u001b[0m \u001b[31m22.9 MB/s\u001b[0m eta \u001b[36m0:00:00\u001b[0m\n",
            "\u001b[2K     \u001b[90m━━━━━━━━━━━━━━━━━━━━━━━━━━━━━━━━━━━━━━━━\u001b[0m \u001b[32m117.0/117.0 kB\u001b[0m \u001b[31m17.5 MB/s\u001b[0m eta \u001b[36m0:00:00\u001b[0m\n",
            "\u001b[?25h  Preparing metadata (setup.py) ... \u001b[?25l\u001b[?25hdone\n",
            "\u001b[2K     \u001b[90m━━━━━━━━━━━━━━━━━━━━━━━━━━━━━━━━━━━━━━━━\u001b[0m \u001b[32m575.5/575.5 kB\u001b[0m \u001b[31m58.4 MB/s\u001b[0m eta \u001b[36m0:00:00\u001b[0m\n",
            "\u001b[2K     \u001b[90m━━━━━━━━━━━━━━━━━━━━━━━━━━━━━━━━━━━━━━━━\u001b[0m \u001b[32m121.1/121.1 kB\u001b[0m \u001b[31m15.3 MB/s\u001b[0m eta \u001b[36m0:00:00\u001b[0m\n",
            "\u001b[2K     \u001b[90m━━━━━━━━━━━━━━━━━━━━━━━━━━━━━━━━━━━━━━━━\u001b[0m \u001b[32m86.8/86.8 kB\u001b[0m \u001b[31m11.7 MB/s\u001b[0m eta \u001b[36m0:00:00\u001b[0m\n",
            "\u001b[2K     \u001b[90m━━━━━━━━━━━━━━━━━━━━━━━━━━━━━━━━━━━━━━━━\u001b[0m \u001b[32m120.0/120.0 kB\u001b[0m \u001b[31m16.4 MB/s\u001b[0m eta \u001b[36m0:00:00\u001b[0m\n",
            "\u001b[2K     \u001b[90m━━━━━━━━━━━━━━━━━━━━━━━━━━━━━━━━━━━━━━━━\u001b[0m \u001b[32m120.0/120.0 kB\u001b[0m \u001b[31m16.7 MB/s\u001b[0m eta \u001b[36m0:00:00\u001b[0m\n",
            "\u001b[2K     \u001b[90m━━━━━━━━━━━━━━━━━━━━━━━━━━━━━━━━━━━━━━━━\u001b[0m \u001b[32m120.6/120.6 kB\u001b[0m \u001b[31m16.2 MB/s\u001b[0m eta \u001b[36m0:00:00\u001b[0m\n",
            "\u001b[2K     \u001b[90m━━━━━━━━━━━━━━━━━━━━━━━━━━━━━━━━━━━━━━━━\u001b[0m \u001b[32m83.5/83.5 kB\u001b[0m \u001b[31m10.9 MB/s\u001b[0m eta \u001b[36m0:00:00\u001b[0m\n",
            "\u001b[2K     \u001b[90m━━━━━━━━━━━━━━━━━━━━━━━━━━━━━━━━━━━━━━━━\u001b[0m \u001b[32m83.5/83.5 kB\u001b[0m \u001b[31m9.0 MB/s\u001b[0m eta \u001b[36m0:00:00\u001b[0m\n",
            "\u001b[2K     \u001b[90m━━━━━━━━━━━━━━━━━━━━━━━━━━━━━━━━━━━━━━━━\u001b[0m \u001b[32m84.7/84.7 kB\u001b[0m \u001b[31m12.1 MB/s\u001b[0m eta \u001b[36m0:00:00\u001b[0m\n",
            "\u001b[2K     \u001b[90m━━━━━━━━━━━━━━━━━━━━━━━━━━━━━━━━━━━━━━━━\u001b[0m \u001b[32m99.2/99.2 kB\u001b[0m \u001b[31m13.6 MB/s\u001b[0m eta \u001b[36m0:00:00\u001b[0m\n",
            "\u001b[2K     \u001b[90m━━━━━━━━━━━━━━━━━━━━━━━━━━━━━━━━━━━━━━━━\u001b[0m \u001b[32m99.2/99.2 kB\u001b[0m \u001b[31m12.8 MB/s\u001b[0m eta \u001b[36m0:00:00\u001b[0m\n",
            "\u001b[2K     \u001b[90m━━━━━━━━━━━━━━━━━━━━━━━━━━━━━━━━━━━━━━━━\u001b[0m \u001b[32m99.8/99.8 kB\u001b[0m \u001b[31m12.6 MB/s\u001b[0m eta \u001b[36m0:00:00\u001b[0m\n",
            "\u001b[2K     \u001b[90m━━━━━━━━━━━━━━━━━━━━━━━━━━━━━━━━━━━━━━━━\u001b[0m \u001b[32m89.4/89.4 kB\u001b[0m \u001b[31m10.8 MB/s\u001b[0m eta \u001b[36m0:00:00\u001b[0m\n",
            "\u001b[2K     \u001b[90m━━━━━━━━━━━━━━━━━━━━━━━━━━━━━━━━━━━━━━━━\u001b[0m \u001b[32m89.4/89.4 kB\u001b[0m \u001b[31m11.9 MB/s\u001b[0m eta \u001b[36m0:00:00\u001b[0m\n",
            "\u001b[2K     \u001b[90m━━━━━━━━━━━━━━━━━━━━━━━━━━━━━━━━━━━━━━━━\u001b[0m \u001b[32m90.6/90.6 kB\u001b[0m \u001b[31m12.3 MB/s\u001b[0m eta \u001b[36m0:00:00\u001b[0m\n",
            "\u001b[2K     \u001b[90m━━━━━━━━━━━━━━━━━━━━━━━━━━━━━━━━━━━━━━━━\u001b[0m \u001b[32m92.6/92.6 kB\u001b[0m \u001b[31m11.3 MB/s\u001b[0m eta \u001b[36m0:00:00\u001b[0m\n",
            "\u001b[2K     \u001b[90m━━━━━━━━━━━━━━━━━━━━━━━━━━━━━━━━━━━━━━━━\u001b[0m \u001b[32m92.6/92.6 kB\u001b[0m \u001b[31m11.2 MB/s\u001b[0m eta \u001b[36m0:00:00\u001b[0m\n",
            "\u001b[2K     \u001b[90m━━━━━━━━━━━━━━━━━━━━━━━━━━━━━━━━━━━━━━━━\u001b[0m \u001b[32m92.6/92.6 kB\u001b[0m \u001b[31m12.3 MB/s\u001b[0m eta \u001b[36m0:00:00\u001b[0m\n",
            "\u001b[2K     \u001b[90m━━━━━━━━━━━━━━━━━━━━━━━━━━━━━━━━━━━━━━━━\u001b[0m \u001b[32m94.0/94.0 kB\u001b[0m \u001b[31m12.3 MB/s\u001b[0m eta \u001b[36m0:00:00\u001b[0m\n",
            "\u001b[2K     \u001b[90m━━━━━━━━━━━━━━━━━━━━━━━━━━━━━━━━━━━━━━━━\u001b[0m \u001b[32m407.7/407.7 kB\u001b[0m \u001b[31m40.8 MB/s\u001b[0m eta \u001b[36m0:00:00\u001b[0m\n",
            "\u001b[2K     \u001b[90m━━━━━━━━━━━━━━━━━━━━━━━━━━━━━━━━━━━━━━━━\u001b[0m \u001b[32m107.7/107.7 kB\u001b[0m \u001b[31m10.8 MB/s\u001b[0m eta \u001b[36m0:00:00\u001b[0m\n",
            "\u001b[2K     \u001b[90m━━━━━━━━━━━━━━━━━━━━━━━━━━━━━━━━━━━━━━━━\u001b[0m \u001b[32m276.6/276.6 kB\u001b[0m \u001b[31m32.5 MB/s\u001b[0m eta \u001b[36m0:00:00\u001b[0m\n",
            "\u001b[2K     \u001b[90m━━━━━━━━━━━━━━━━━━━━━━━━━━━━━━━━━━━━━━━━\u001b[0m \u001b[32m2.8/2.8 MB\u001b[0m \u001b[31m105.3 MB/s\u001b[0m eta \u001b[36m0:00:00\u001b[0m\n",
            "\u001b[2K     \u001b[90m━━━━━━━━━━━━━━━━━━━━━━━━━━━━━━━━━━━━━━━━\u001b[0m \u001b[32m913.9/913.9 kB\u001b[0m \u001b[31m73.1 MB/s\u001b[0m eta \u001b[36m0:00:00\u001b[0m\n",
            "\u001b[?25h  Preparing metadata (setup.py) ... \u001b[?25l\u001b[?25hdone\n",
            "\u001b[2K     \u001b[90m━━━━━━━━━━━━━━━━━━━━━━━━━━━━━━━━━━━━━━━━\u001b[0m \u001b[32m105.0/105.0 kB\u001b[0m \u001b[31m13.1 MB/s\u001b[0m eta \u001b[36m0:00:00\u001b[0m\n",
            "\u001b[2K     \u001b[90m━━━━━━━━━━━━━━━━━━━━━━━━━━━━━━━━━━━━━━━━\u001b[0m \u001b[32m46.2/46.2 kB\u001b[0m \u001b[31m5.3 MB/s\u001b[0m eta \u001b[36m0:00:00\u001b[0m\n",
            "\u001b[2K     \u001b[90m━━━━━━━━━━━━━━━━━━━━━━━━━━━━━━━━━━━━━━━━\u001b[0m \u001b[32m106.8/106.8 kB\u001b[0m \u001b[31m14.1 MB/s\u001b[0m eta \u001b[36m0:00:00\u001b[0m\n",
            "\u001b[2K     \u001b[90m━━━━━━━━━━━━━━━━━━━━━━━━━━━━━━━━━━━━━━━━\u001b[0m \u001b[32m194.6/194.6 kB\u001b[0m \u001b[31m23.6 MB/s\u001b[0m eta \u001b[36m0:00:00\u001b[0m\n",
            "\u001b[2K     \u001b[90m━━━━━━━━━━━━━━━━━━━━━━━━━━━━━━━━━━━━━━━━\u001b[0m \u001b[32m58.1/58.1 kB\u001b[0m \u001b[31m7.6 MB/s\u001b[0m eta \u001b[36m0:00:00\u001b[0m\n",
            "\u001b[?25h  Building wheel for super-gradients (pyproject.toml) ... \u001b[?25l\u001b[?25hdone\n",
            "  Building wheel for pycocotools (pyproject.toml) ... \u001b[?25l\u001b[?25hdone\n",
            "  Building wheel for termcolor (setup.py) ... \u001b[?25l\u001b[?25hdone\n",
            "  Building wheel for treelib (setup.py) ... \u001b[?25l\u001b[?25hdone\n",
            "  Building wheel for coverage (setup.py) ... \u001b[?25l\u001b[?25hdone\n",
            "  Building wheel for antlr4-python3-runtime (setup.py) ... \u001b[?25l\u001b[?25hdone\n",
            "  Building wheel for stringcase (setup.py) ... \u001b[?25l\u001b[?25hdone\n",
            "  Building wheel for xhtml2pdf (setup.py) ... \u001b[?25l\u001b[?25hdone\n",
            "  Building wheel for svglib (setup.py) ... \u001b[?25l\u001b[?25hdone\n",
            "\u001b[31mERROR: pip's dependency resolver does not currently take into account all the packages that are installed. This behaviour is the source of the following dependency conflicts.\n",
            "lida 0.0.10 requires fastapi, which is not installed.\n",
            "lida 0.0.10 requires kaleido, which is not installed.\n",
            "lida 0.0.10 requires python-multipart, which is not installed.\n",
            "lida 0.0.10 requires uvicorn, which is not installed.\n",
            "tensorflow 2.14.0 requires numpy>=1.23.5, but you have numpy 1.23.0 which is incompatible.\u001b[0m\u001b[31m\n",
            "\u001b[2K     \u001b[90m━━━━━━━━━━━━━━━━━━━━━━━━━━━━━━━━━━━━━━━━\u001b[0m \u001b[32m58.8/58.8 kB\u001b[0m \u001b[31m1.9 MB/s\u001b[0m eta \u001b[36m0:00:00\u001b[0m\n",
            "\u001b[2K     \u001b[90m━━━━━━━━━━━━━━━━━━━━━━━━━━━━━━━━━━━━━━━━\u001b[0m \u001b[32m155.3/155.3 kB\u001b[0m \u001b[31m9.9 MB/s\u001b[0m eta \u001b[36m0:00:00\u001b[0m\n",
            "\u001b[2K     \u001b[90m━━━━━━━━━━━━━━━━━━━━━━━━━━━━━━━━━━━━━━━━\u001b[0m \u001b[32m178.7/178.7 kB\u001b[0m \u001b[31m22.4 MB/s\u001b[0m eta \u001b[36m0:00:00\u001b[0m\n",
            "\u001b[2K     \u001b[90m━━━━━━━━━━━━━━━━━━━━━━━━━━━━━━━━━━━━━━━━\u001b[0m \u001b[32m58.8/58.8 kB\u001b[0m \u001b[31m9.1 MB/s\u001b[0m eta \u001b[36m0:00:00\u001b[0m\n",
            "\u001b[2K     \u001b[90m━━━━━━━━━━━━━━━━━━━━━━━━━━━━━━━━━━━━━━━━\u001b[0m \u001b[32m49.1/49.1 MB\u001b[0m \u001b[31m15.7 MB/s\u001b[0m eta \u001b[36m0:00:00\u001b[0m\n",
            "\u001b[2K     \u001b[90m━━━━━━━━━━━━━━━━━━━━━━━━━━━━━━━━━━━━━━━━\u001b[0m \u001b[32m67.8/67.8 kB\u001b[0m \u001b[31m8.9 MB/s\u001b[0m eta \u001b[36m0:00:00\u001b[0m\n",
            "\u001b[2K     \u001b[90m━━━━━━━━━━━━━━━━━━━━━━━━━━━━━━━━━━━━━━━━\u001b[0m \u001b[32m72.2/72.2 kB\u001b[0m \u001b[31m9.7 MB/s\u001b[0m eta \u001b[36m0:00:00\u001b[0m\n",
            "\u001b[2K     \u001b[90m━━━━━━━━━━━━━━━━━━━━━━━━━━━━━━━━━━━━━━━━\u001b[0m \u001b[32m54.5/54.5 kB\u001b[0m \u001b[31m7.6 MB/s\u001b[0m eta \u001b[36m0:00:00\u001b[0m\n",
            "\u001b[?25h\u001b[31mERROR: pip's dependency resolver does not currently take into account all the packages that are installed. This behaviour is the source of the following dependency conflicts.\n",
            "lida 0.0.10 requires fastapi, which is not installed.\n",
            "lida 0.0.10 requires kaleido, which is not installed.\n",
            "lida 0.0.10 requires python-multipart, which is not installed.\n",
            "lida 0.0.10 requires uvicorn, which is not installed.\n",
            "super-gradients 3.4.0rc30340 requires pyparsing==2.4.5, but you have pyparsing 2.4.7 which is incompatible.\n",
            "tensorflow 2.14.0 requires numpy>=1.23.5, but you have numpy 1.23.0 which is incompatible.\u001b[0m\u001b[31m\n",
            "\u001b[0m"
          ]
        }
      ]
    },
    {
      "cell_type": "code",
      "source": [
        "import os\n",
        "HOME = os.getcwd()\n",
        "print(HOME)"
      ],
      "metadata": {
        "colab": {
          "base_uri": "https://localhost:8080/"
        },
        "id": "8WaMIoi66GZr",
        "outputId": "2c61fd0a-2ff8-4dd5-ce86-77eabe4055a5"
      },
      "execution_count": 3,
      "outputs": [
        {
          "output_type": "stream",
          "name": "stdout",
          "text": [
            "/content\n"
          ]
        }
      ]
    },
    {
      "cell_type": "code",
      "source": [
        "import torch\n",
        "\n",
        "DEVICE = 'cuda' if torch.cuda.is_available() else \"cpu\"\n",
        "MODEL_ARCH = 'yolo_nas_l'"
      ],
      "metadata": {
        "id": "ri11T5wx6d9z"
      },
      "execution_count": 4,
      "outputs": []
    },
    {
      "cell_type": "code",
      "source": [
        "from super_gradients.training import models\n",
        "\n",
        "model = models.get(MODEL_ARCH, pretrained_weights=\"coco\").to(DEVICE)"
      ],
      "metadata": {
        "colab": {
          "base_uri": "https://localhost:8080/"
        },
        "id": "iyabvWYO6gCS",
        "outputId": "914b883b-2451-41fa-ea8f-70210eb92377"
      },
      "execution_count": 5,
      "outputs": [
        {
          "output_type": "stream",
          "name": "stderr",
          "text": [
            "[2023-10-27 10:22:47] INFO - crash_tips_setup.py - Crash tips is enabled. You can set your environment variable to CRASH_HANDLER=FALSE to disable it\n"
          ]
        },
        {
          "output_type": "stream",
          "name": "stdout",
          "text": [
            "The console stream is logged into /root/sg_logs/console.log\n"
          ]
        },
        {
          "output_type": "stream",
          "name": "stderr",
          "text": [
            "[2023-10-27 10:22:47] WARNING - __init__.py - Failed to import pytorch_quantization\n",
            "[2023-10-27 10:22:51] INFO - utils.py - NumExpr defaulting to 2 threads.\n",
            "[2023-10-27 10:22:54] WARNING - calibrator.py - Failed to import pytorch_quantization\n",
            "[2023-10-27 10:22:54] WARNING - export.py - Failed to import pytorch_quantization\n",
            "[2023-10-27 10:22:54] WARNING - selective_quantization_utils.py - Failed to import pytorch_quantization\n",
            "[2023-10-27 10:22:54] INFO - env_sanity_check.py - Library check is not supported when super_gradients installed through \"git+https://github.com/...\" command\n",
            "[2023-10-27 10:22:55] INFO - checkpoint_utils.py - License Notification: YOLO-NAS pre-trained weights are subjected to the specific license terms and conditions detailed in \n",
            "https://github.com/Deci-AI/super-gradients/blob/master/LICENSE.YOLONAS.md\n",
            "By downloading the pre-trained weight files you agree to comply with these terms.\n",
            "Downloading: \"https://sghub.deci.ai/models/yolo_nas_l_coco.pth\" to /root/.cache/torch/hub/checkpoints/yolo_nas_l_coco.pth\n",
            "100%|██████████| 256M/256M [00:15<00:00, 17.5MB/s]\n",
            "[2023-10-27 10:23:12] INFO - checkpoint_utils.py - Successfully loaded pretrained weights for architecture yolo_nas_l\n"
          ]
        }
      ]
    },
    {
      "cell_type": "code",
      "source": [
        "f\"{HOME}/data\"\n"
      ],
      "metadata": {
        "colab": {
          "base_uri": "https://localhost:8080/",
          "height": 36
        },
        "id": "KBHVKkHu6h4T",
        "outputId": "95565ccf-93b2-4585-c385-becdea7c30a1"
      },
      "execution_count": 6,
      "outputs": [
        {
          "output_type": "execute_result",
          "data": {
            "text/plain": [
              "'/content/data'"
            ],
            "application/vnd.google.colaboratory.intrinsic+json": {
              "type": "string"
            }
          },
          "metadata": {},
          "execution_count": 6
        }
      ]
    },
    {
      "cell_type": "code",
      "source": [
        "%cd {HOME}\n",
        "\n",
        "import roboflow\n",
        "from roboflow import Roboflow\n",
        "\n",
        "\n",
        "roboflow.login()\n",
        "\n",
        "rf = Roboflow()\n",
        "\n",
        "project = rf.workspace(\"innodatatics1\").project(\"pipe-inventory\")\n",
        "dataset = project.version(2).download(\"yolov5\")"
      ],
      "metadata": {
        "colab": {
          "base_uri": "https://localhost:8080/"
        },
        "id": "OCBaX84k6q7N",
        "outputId": "2b014c2d-6185-48c5-eeb7-07b6fdc9d442"
      },
      "execution_count": 7,
      "outputs": [
        {
          "output_type": "stream",
          "name": "stdout",
          "text": [
            "/content\n",
            "\rvisit https://app.roboflow.com/auth-cli to get your authentication token.\n",
            "Paste the authentication token here: ··········\n",
            "loading Roboflow workspace...\n",
            "loading Roboflow project...\n"
          ]
        },
        {
          "output_type": "stream",
          "name": "stderr",
          "text": [
            "Downloading Dataset Version Zip in pipe-inventory-2 to yolov5pytorch:: 100%|██████████| 65961/65961 [00:01<00:00, 52884.72it/s]\n",
            "Extracting Dataset Version Zip to pipe-inventory-2 in yolov5pytorch::  62%|██████▎   | 310/496 [00:00<00:00, 3089.11it/s]"
          ]
        },
        {
          "output_type": "stream",
          "name": "stdout",
          "text": [
            "\n"
          ]
        }
      ]
    },
    {
      "cell_type": "code",
      "source": [
        "LOCATION = dataset.location\n",
        "print(\"location:\", LOCATION)\n",
        "CLASSES = sorted(project.classes.keys())\n",
        "print(\"classes:\", CLASSES)"
      ],
      "metadata": {
        "id": "A9QL4Tma6tZT",
        "colab": {
          "base_uri": "https://localhost:8080/"
        },
        "outputId": "3bff301f-9298-4060-d3f6-7ec782e89f06"
      },
      "execution_count": 8,
      "outputs": [
        {
          "output_type": "stream",
          "name": "stdout",
          "text": [
            "location: /content/pipe-inventory-2\n",
            "classes: ['.', 'C 32 2.5', 'C 38 2.9', 'C 48 2.9', 'R 20 40 1.9', 'R 25 75 1.9', 'R 48 96 2.0', 'R 48 96 2.9', 'R 60 40 1.9', 'R 80 40 1.2', 'R 96 48 2.0', 'R 96 48 2.9', 'S 20 20 1.2', 'S 20 20 1.5', 'S 20 20 1.9', 'S 25 25 1.9', 'S 25 25 2.5', 'S 38 38 1.9', 'S 40 40 2.5', 'S 40 40 3.2', 'S 50 50 1.5', 'S 50 50 1.9', 'S 50 50 4.0', 'S 60 60 2.0', 'S 72 72 4.0', 'S 72 72 4.8', 'S 80 40 1.2', '\\\\', 'p']\n"
          ]
        }
      ]
    },
    {
      "cell_type": "code",
      "source": [
        "MODEL_ARCH = 'yolo_nas_l'\n",
        "BATCH_SIZE = 8\n",
        "MAX_EPOCHS = 5\n",
        "CHECKPOINT_DIR = f'{HOME}/checkpoints'\n",
        "EXPERIMENT_NAME = project.name.lower().replace(\" \", \"_\")"
      ],
      "metadata": {
        "id": "AcO-Fhvt7Egr"
      },
      "execution_count": 9,
      "outputs": []
    },
    {
      "cell_type": "code",
      "source": [
        "from super_gradients.training import Trainer\n",
        "\n",
        "trainer = Trainer(experiment_name=EXPERIMENT_NAME, ckpt_root_dir=CHECKPOINT_DIR)"
      ],
      "metadata": {
        "id": "caH8s9-T7GQ2"
      },
      "execution_count": 10,
      "outputs": []
    },
    {
      "cell_type": "code",
      "source": [
        "dataset_params = {\n",
        "    'data_dir': LOCATION,\n",
        "    'train_images_dir':'train/images',\n",
        "    'train_labels_dir':'train/labels',\n",
        "    'val_images_dir':'valid/images',\n",
        "    'val_labels_dir':'valid/labels',\n",
        "    'test_images_dir':'test/images',\n",
        "    'test_labels_dir':'test/labels',\n",
        "    'classes': CLASSES\n",
        "}"
      ],
      "metadata": {
        "id": "PIxpLa_k7H1I"
      },
      "execution_count": 11,
      "outputs": []
    },
    {
      "cell_type": "code",
      "source": [
        "from super_gradients.training.dataloaders.dataloaders import (\n",
        "    coco_detection_yolo_format_train, coco_detection_yolo_format_val)\n",
        "\n",
        "train_data = coco_detection_yolo_format_train(\n",
        "    dataset_params={\n",
        "        'data_dir': dataset_params['data_dir'],\n",
        "        'images_dir': dataset_params['train_images_dir'],\n",
        "        'labels_dir': dataset_params['train_labels_dir'],\n",
        "        'classes': dataset_params['classes']\n",
        "    },\n",
        "    dataloader_params={\n",
        "        'batch_size': BATCH_SIZE,\n",
        "        'num_workers': 2\n",
        "    }\n",
        ")\n",
        "\n",
        "val_data = coco_detection_yolo_format_val(\n",
        "    dataset_params={\n",
        "        'data_dir': dataset_params['data_dir'],\n",
        "        'images_dir': dataset_params['val_images_dir'],\n",
        "        'labels_dir': dataset_params['val_labels_dir'],\n",
        "        'classes': dataset_params['classes']\n",
        "    },\n",
        "    dataloader_params={\n",
        "        'batch_size': BATCH_SIZE,\n",
        "        'num_workers': 2\n",
        "    }\n",
        ")\n",
        "\n",
        "test_data = coco_detection_yolo_format_val(\n",
        "    dataset_params={\n",
        "        'data_dir': dataset_params['data_dir'],\n",
        "        'images_dir': dataset_params['test_images_dir'],\n",
        "        'labels_dir': dataset_params['test_labels_dir'],\n",
        "        'classes': dataset_params['classes']\n",
        "    },\n",
        "    dataloader_params={\n",
        "        'batch_size': BATCH_SIZE,\n",
        "        'num_workers': 2\n",
        "    }\n",
        ")"
      ],
      "metadata": {
        "colab": {
          "base_uri": "https://localhost:8080/"
        },
        "id": "EK_2gDND7JqS",
        "outputId": "3639a2b9-ef03-4aab-b8a1-2752afd4c2ab"
      },
      "execution_count": 12,
      "outputs": [
        {
          "output_type": "stream",
          "name": "stderr",
          "text": [
            "[2023-10-27 10:41:45] INFO - detection_dataset.py - Dataset Initialization in progress. `cache_annotations=True` causes the process to take longer due to full dataset indexing.\n",
            "Indexing dataset annotations: 100%|██████████| 188/188 [00:00<00:00, 514.41it/s]\n",
            "[2023-10-27 10:41:45] WARNING - detection_dataset.py - Found 175191 invalid bbox that were ignored. For more information, please set `show_all_warnings=True`.\n",
            "[2023-10-27 10:41:45] INFO - detection_dataset.py - Dataset Initialization in progress. `cache_annotations=True` causes the process to take longer due to full dataset indexing.\n",
            "Indexing dataset annotations: 100%|██████████| 28/28 [00:00<00:00, 504.05it/s]\n",
            "[2023-10-27 10:41:46] WARNING - detection_dataset.py - Found 26936 invalid bbox that were ignored. For more information, please set `show_all_warnings=True`.\n",
            "[2023-10-27 10:41:46] INFO - detection_dataset.py - Dataset Initialization in progress. `cache_annotations=True` causes the process to take longer due to full dataset indexing.\n",
            "Indexing dataset annotations: 100%|██████████| 26/26 [00:00<00:00, 501.42it/s]\n",
            "[2023-10-27 10:41:46] WARNING - detection_dataset.py - Found 23060 invalid bbox that were ignored. For more information, please set `show_all_warnings=True`.\n"
          ]
        }
      ]
    },
    {
      "cell_type": "code",
      "source": [
        "train_data.dataset.transforms"
      ],
      "metadata": {
        "colab": {
          "base_uri": "https://localhost:8080/"
        },
        "id": "TqGPsAad7LFJ",
        "outputId": "24420a1b-ccb0-4baa-fc0b-959101984fd0"
      },
      "execution_count": 13,
      "outputs": [
        {
          "output_type": "execute_result",
          "data": {
            "text/plain": [
              "[DetectionMosaic('additional_samples_count': 3, 'non_empty_targets': False, 'prob': 1.0, 'input_dim': (640, 640), 'enable_mosaic': True, 'border_value': 114),\n",
              " DetectionRandomAffine('additional_samples_count': 0, 'non_empty_targets': False, 'degrees': 10.0, 'translate': 0.1, 'scale': [0.1, 2], 'shear': 2.0, 'target_size': (640, 640), 'enable': True, 'filter_box_candidates': True, 'wh_thr': 2, 'ar_thr': 20, 'area_thr': 0.1, 'border_value': 114),\n",
              " DetectionMixup('additional_samples_count': 1, 'non_empty_targets': True, 'input_dim': (640, 640), 'mixup_scale': [0.5, 1.5], 'prob': 1.0, 'enable_mixup': True, 'flip_prob': 0.5, 'border_value': 114),\n",
              " DetectionHSV('additional_samples_count': 0, 'non_empty_targets': False, 'prob': 1.0, 'hgain': 5, 'sgain': 30, 'vgain': 30, 'bgr_channels': (0, 1, 2), '_additional_channels_warned': False),\n",
              " DetectionHorizontalFlip('additional_samples_count': 0, 'non_empty_targets': False, 'prob': 0.5),\n",
              " DetectionPaddedRescale('additional_samples_count': 0, 'non_empty_targets': False, 'swap': (2, 0, 1), 'input_dim': (640, 640), 'pad_value': 114),\n",
              " DetectionTargetsFormatTransform('additional_samples_count': 0, 'non_empty_targets': False, 'input_format': OrderedDict([('bboxes', name=bboxes length=4 format=<super_gradients.training.datasets.data_formats.bbox_formats.xyxy.XYXYCoordinateFormat object at 0x7f60f4be7760>), ('labels', name=labels length=1)]), 'output_format': OrderedDict([('labels', name=labels length=1), ('bboxes', name=bboxes length=4 format=<super_gradients.training.datasets.data_formats.bbox_formats.cxcywh.CXCYWHCoordinateFormat object at 0x7f60f45c2680>)]), 'min_bbox_edge_size': 1, 'input_dim': (640, 640), 'targets_format_converter': <super_gradients.training.datasets.data_formats.format_converter.ConcatenatedTensorFormatConverter object at 0x7f60f3674610>)]"
            ]
          },
          "metadata": {},
          "execution_count": 13
        }
      ]
    },
    {
      "cell_type": "code",
      "source": [
        "from super_gradients.training import models\n",
        "\n",
        "model = models.get(\n",
        "    MODEL_ARCH,\n",
        "    num_classes=len(dataset_params['classes']),\n",
        "    pretrained_weights=\"coco\"\n",
        ")"
      ],
      "metadata": {
        "colab": {
          "base_uri": "https://localhost:8080/"
        },
        "id": "xji-Yjko7NUD",
        "outputId": "15c4c79c-fd6f-421e-efc6-05e51088ad7f"
      },
      "execution_count": 14,
      "outputs": [
        {
          "output_type": "stream",
          "name": "stderr",
          "text": [
            "[2023-10-27 10:41:54] INFO - checkpoint_utils.py - License Notification: YOLO-NAS pre-trained weights are subjected to the specific license terms and conditions detailed in \n",
            "https://github.com/Deci-AI/super-gradients/blob/master/LICENSE.YOLONAS.md\n",
            "By downloading the pre-trained weight files you agree to comply with these terms.\n",
            "[2023-10-27 10:41:54] INFO - checkpoint_utils.py - Successfully loaded pretrained weights for architecture yolo_nas_l\n"
          ]
        }
      ]
    },
    {
      "cell_type": "code",
      "source": [
        "from super_gradients.training.losses import PPYoloELoss\n",
        "from super_gradients.training.metrics import DetectionMetrics_050\n",
        "from super_gradients.training.models.detection_models.pp_yolo_e import PPYoloEPostPredictionCallback\n",
        "\n",
        "train_params = {\n",
        "    'silent_mode': False,\n",
        "    \"average_best_models\":True,\n",
        "    \"warmup_mode\": \"linear_epoch_step\",\n",
        "    \"warmup_initial_lr\": 1e-6,\n",
        "    \"lr_warmup_epochs\": 3,\n",
        "    \"initial_lr\": 5e-4,\n",
        "    \"lr_mode\": \"cosine\",\n",
        "    \"cosine_final_lr_ratio\": 0.1,\n",
        "    \"optimizer\": \"Adam\",\n",
        "    \"optimizer_params\": {\"weight_decay\": 0.0001},\n",
        "    \"zero_weight_decay_on_bias_and_bn\": True,\n",
        "    \"ema\": True,\n",
        "    \"ema_params\": {\"decay\": 0.9, \"decay_type\": \"threshold\"},\n",
        "    \"max_epochs\": MAX_EPOCHS,\n",
        "    \"mixed_precision\": True,\n",
        "    \"loss\": PPYoloELoss(\n",
        "        use_static_assigner=False,\n",
        "        num_classes=len(dataset_params['classes']),\n",
        "        reg_max=16\n",
        "    ),\n",
        "    \"valid_metrics_list\": [\n",
        "        DetectionMetrics_050(\n",
        "            score_thres=0.1,\n",
        "            top_k_predictions=300,\n",
        "            num_cls=len(dataset_params['classes']),\n",
        "            normalize_targets=True,\n",
        "            post_prediction_callback=PPYoloEPostPredictionCallback(\n",
        "                score_threshold=0.01,\n",
        "                nms_top_k=1000,\n",
        "                max_predictions=300,\n",
        "                nms_threshold=0.7\n",
        "            )\n",
        "        )\n",
        "    ],\n",
        "    \"metric_to_watch\": 'mAP@0.50'\n",
        "}"
      ],
      "metadata": {
        "id": "zo6pf8Pi7T7m"
      },
      "execution_count": 15,
      "outputs": []
    },
    {
      "cell_type": "code",
      "source": [
        "trainer.train(\n",
        "    model=model,\n",
        "    training_params=train_params,\n",
        "    train_loader=train_data,\n",
        "    valid_loader=val_data\n",
        ")"
      ],
      "metadata": {
        "colab": {
          "base_uri": "https://localhost:8080/"
        },
        "id": "Y3COlick7W3s",
        "outputId": "9ad570e6-6e32-44ab-8376-c97fc3666187"
      },
      "execution_count": 16,
      "outputs": [
        {
          "output_type": "stream",
          "name": "stderr",
          "text": [
            "[2023-10-27 10:42:02] INFO - sg_trainer.py - Starting a new run with `run_id=RUN_20231027_104202_028677`\n",
            "[2023-10-27 10:42:02] INFO - sg_trainer.py - Checkpoints directory: /content/checkpoints/pipe_inventory/RUN_20231027_104202_028677\n",
            "[2023-10-27 10:42:02] INFO - sg_trainer.py - Using EMA with params {'decay': 0.9, 'decay_type': 'threshold'}\n"
          ]
        },
        {
          "output_type": "stream",
          "name": "stdout",
          "text": [
            "The console stream is now moved to /content/checkpoints/pipe_inventory/RUN_20231027_104202_028677/console_Oct27_10_42_02.txt\n"
          ]
        },
        {
          "output_type": "stream",
          "name": "stderr",
          "text": [
            "Object name `linear_epoch_step` is now deprecated. Please replace it with `LinearEpochLRWarmup`.\n",
            "[2023-10-27 10:42:04] INFO - sg_trainer_utils.py - TRAINING PARAMETERS:\n",
            "    - Mode:                         Single GPU\n",
            "    - Number of GPUs:               1          (1 available on the machine)\n",
            "    - Full dataset size:            28         (len(train_set))\n",
            "    - Batch size per GPU:           8          (batch_size)\n",
            "    - Batch Accumulate:             1          (batch_accumulate)\n",
            "    - Total batch size:             8          (num_gpus * batch_size)\n",
            "    - Effective Batch size:         8          (num_gpus * batch_size * batch_accumulate)\n",
            "    - Iterations per epoch:         3          (len(train_loader))\n",
            "    - Gradient updates per epoch:   3          (len(train_loader) / batch_accumulate)\n",
            "\n",
            "[2023-10-27 10:42:04] INFO - sg_trainer.py - Started training for 5 epochs (0/4)\n",
            "\n",
            "Train epoch 0: 100%|██████████| 3/3 [00:13<00:00,  4.43s/it, PPYoloELoss/loss=4.01, PPYoloELoss/loss_cls=1.6, PPYoloELoss/loss_dfl=1.46, PPYoloELoss/loss_iou=0.672, gpu_mem=13.4]\n",
            "Validating: 100%|██████████| 1/1 [00:00<00:00,  1.42it/s]\n",
            "[2023-10-27 10:42:23] INFO - base_sg_logger.py - Checkpoint saved in /content/checkpoints/pipe_inventory/RUN_20231027_104202_028677/ckpt_best.pth\n",
            "[2023-10-27 10:42:23] INFO - sg_trainer.py - Best checkpoint overriden: validation mAP@0.50: 0.0\n"
          ]
        },
        {
          "output_type": "stream",
          "name": "stdout",
          "text": [
            "===========================================================\n",
            "SUMMARY OF EPOCH 0\n",
            "├── Train\n",
            "│   ├── Ppyoloeloss/loss_cls = 1.6029\n",
            "│   ├── Ppyoloeloss/loss_iou = 0.672\n",
            "│   ├── Ppyoloeloss/loss_dfl = 1.4579\n",
            "│   └── Ppyoloeloss/loss = 4.0117\n",
            "└── Validation\n",
            "    ├── Ppyoloeloss/loss_cls = 1.3326\n",
            "    ├── Ppyoloeloss/loss_iou = 0.7944\n",
            "    ├── Ppyoloeloss/loss_dfl = 1.3922\n",
            "    ├── Ppyoloeloss/loss = 4.0146\n",
            "    ├── Precision@0.50 = 0.0\n",
            "    ├── Recall@0.50 = 0.0\n",
            "    ├── Map@0.50 = 0.0\n",
            "    └── F1@0.50 = 0.0\n",
            "\n",
            "===========================================================\n"
          ]
        },
        {
          "output_type": "stream",
          "name": "stderr",
          "text": [
            "Train epoch 1: 100%|██████████| 3/3 [00:03<00:00,  1.17s/it, PPYoloELoss/loss=4.67, PPYoloELoss/loss_cls=1.52, PPYoloELoss/loss_dfl=2.04, PPYoloELoss/loss_iou=0.851, gpu_mem=12.5]\n",
            "Validating epoch 1: 100%|██████████| 1/1 [00:00<00:00,  1.79it/s]\n"
          ]
        },
        {
          "output_type": "stream",
          "name": "stdout",
          "text": [
            "===========================================================\n",
            "SUMMARY OF EPOCH 1\n",
            "├── Train\n",
            "│   ├── Ppyoloeloss/loss_cls = 1.5204\n",
            "│   │   ├── Epoch N-1      = 1.6029 (\u001b[32m↘ -0.0825\u001b[0m)\n",
            "│   │   └── Best until now = 1.6029 (\u001b[32m↘ -0.0825\u001b[0m)\n",
            "│   ├── Ppyoloeloss/loss_iou = 0.8514\n",
            "│   │   ├── Epoch N-1      = 0.672  (\u001b[31m↗ 0.1794\u001b[0m)\n",
            "│   │   └── Best until now = 0.672  (\u001b[31m↗ 0.1794\u001b[0m)\n",
            "│   ├── Ppyoloeloss/loss_dfl = 2.0369\n",
            "│   │   ├── Epoch N-1      = 1.4579 (\u001b[31m↗ 0.579\u001b[0m)\n",
            "│   │   └── Best until now = 1.4579 (\u001b[31m↗ 0.579\u001b[0m)\n",
            "│   └── Ppyoloeloss/loss = 4.6672\n",
            "│       ├── Epoch N-1      = 4.0117 (\u001b[31m↗ 0.6555\u001b[0m)\n",
            "│       └── Best until now = 4.0117 (\u001b[31m↗ 0.6555\u001b[0m)\n",
            "└── Validation\n",
            "    ├── Ppyoloeloss/loss_cls = 2.0942\n",
            "    │   ├── Epoch N-1      = 1.3326 (\u001b[31m↗ 0.7616\u001b[0m)\n",
            "    │   └── Best until now = 1.3326 (\u001b[31m↗ 0.7616\u001b[0m)\n",
            "    ├── Ppyoloeloss/loss_iou = 0.8339\n",
            "    │   ├── Epoch N-1      = 0.7944 (\u001b[31m↗ 0.0395\u001b[0m)\n",
            "    │   └── Best until now = 0.7944 (\u001b[31m↗ 0.0395\u001b[0m)\n",
            "    ├── Ppyoloeloss/loss_dfl = 1.7939\n",
            "    │   ├── Epoch N-1      = 1.3922 (\u001b[31m↗ 0.4017\u001b[0m)\n",
            "    │   └── Best until now = 1.3922 (\u001b[31m↗ 0.4017\u001b[0m)\n",
            "    ├── Ppyoloeloss/loss = 5.0759\n",
            "    │   ├── Epoch N-1      = 4.0146 (\u001b[31m↗ 1.0613\u001b[0m)\n",
            "    │   └── Best until now = 4.0146 (\u001b[31m↗ 1.0613\u001b[0m)\n",
            "    ├── Precision@0.50 = 0.0\n",
            "    │   ├── Epoch N-1      = 0.0    (\u001b[37m= 0.0\u001b[0m)\n",
            "    │   └── Best until now = 0.0    (\u001b[37m= 0.0\u001b[0m)\n",
            "    ├── Recall@0.50 = 0.0\n",
            "    │   ├── Epoch N-1      = 0.0    (\u001b[37m= 0.0\u001b[0m)\n",
            "    │   └── Best until now = 0.0    (\u001b[37m= 0.0\u001b[0m)\n",
            "    ├── Map@0.50 = 0.0\n",
            "    │   ├── Epoch N-1      = 0.0    (\u001b[37m= 0.0\u001b[0m)\n",
            "    │   └── Best until now = 0.0    (\u001b[37m= 0.0\u001b[0m)\n",
            "    └── F1@0.50 = 0.0\n",
            "        ├── Epoch N-1      = 0.0    (\u001b[37m= 0.0\u001b[0m)\n",
            "        └── Best until now = 0.0    (\u001b[37m= 0.0\u001b[0m)\n",
            "\n",
            "===========================================================\n"
          ]
        },
        {
          "output_type": "stream",
          "name": "stderr",
          "text": [
            "Train epoch 2: 100%|██████████| 3/3 [00:04<00:00,  1.44s/it, PPYoloELoss/loss=4.17, PPYoloELoss/loss_cls=1.98, PPYoloELoss/loss_dfl=1.11, PPYoloELoss/loss_iou=0.654, gpu_mem=13.5]\n",
            "Validating epoch 2: 100%|██████████| 1/1 [00:00<00:00,  1.36it/s]\n"
          ]
        },
        {
          "output_type": "stream",
          "name": "stdout",
          "text": [
            "===========================================================\n",
            "SUMMARY OF EPOCH 2\n",
            "├── Train\n",
            "│   ├── Ppyoloeloss/loss_cls = 1.9773\n",
            "│   │   ├── Epoch N-1      = 1.5204 (\u001b[31m↗ 0.4569\u001b[0m)\n",
            "│   │   └── Best until now = 1.5204 (\u001b[31m↗ 0.4569\u001b[0m)\n",
            "│   ├── Ppyoloeloss/loss_iou = 0.6545\n",
            "│   │   ├── Epoch N-1      = 0.8514 (\u001b[32m↘ -0.1969\u001b[0m)\n",
            "│   │   └── Best until now = 0.672  (\u001b[32m↘ -0.0175\u001b[0m)\n",
            "│   ├── Ppyoloeloss/loss_dfl = 1.1055\n",
            "│   │   ├── Epoch N-1      = 2.0369 (\u001b[32m↘ -0.9315\u001b[0m)\n",
            "│   │   └── Best until now = 1.4579 (\u001b[32m↘ -0.3525\u001b[0m)\n",
            "│   └── Ppyoloeloss/loss = 4.1662\n",
            "│       ├── Epoch N-1      = 4.6672 (\u001b[32m↘ -0.5011\u001b[0m)\n",
            "│       └── Best until now = 4.0117 (\u001b[31m↗ 0.1545\u001b[0m)\n",
            "└── Validation\n",
            "    ├── Ppyoloeloss/loss_cls = 2.0864\n",
            "    │   ├── Epoch N-1      = 2.0942 (\u001b[32m↘ -0.0078\u001b[0m)\n",
            "    │   └── Best until now = 1.3326 (\u001b[31m↗ 0.7538\u001b[0m)\n",
            "    ├── Ppyoloeloss/loss_iou = 0.0169\n",
            "    │   ├── Epoch N-1      = 0.8339 (\u001b[32m↘ -0.817\u001b[0m)\n",
            "    │   └── Best until now = 0.7944 (\u001b[32m↘ -0.7775\u001b[0m)\n",
            "    ├── Ppyoloeloss/loss_dfl = 0.096\n",
            "    │   ├── Epoch N-1      = 1.7939 (\u001b[32m↘ -1.6979\u001b[0m)\n",
            "    │   └── Best until now = 1.3922 (\u001b[32m↘ -1.2962\u001b[0m)\n",
            "    ├── Ppyoloeloss/loss = 2.1766\n",
            "    │   ├── Epoch N-1      = 5.0759 (\u001b[32m↘ -2.8994\u001b[0m)\n",
            "    │   └── Best until now = 4.0146 (\u001b[32m↘ -1.8381\u001b[0m)\n",
            "    ├── Precision@0.50 = 0.0\n",
            "    │   ├── Epoch N-1      = 0.0    (\u001b[37m= 0.0\u001b[0m)\n",
            "    │   └── Best until now = 0.0    (\u001b[37m= 0.0\u001b[0m)\n",
            "    ├── Recall@0.50 = 0.0\n",
            "    │   ├── Epoch N-1      = 0.0    (\u001b[37m= 0.0\u001b[0m)\n",
            "    │   └── Best until now = 0.0    (\u001b[37m= 0.0\u001b[0m)\n",
            "    ├── Map@0.50 = 0.0\n",
            "    │   ├── Epoch N-1      = 0.0    (\u001b[37m= 0.0\u001b[0m)\n",
            "    │   └── Best until now = 0.0    (\u001b[37m= 0.0\u001b[0m)\n",
            "    └── F1@0.50 = 0.0\n",
            "        ├── Epoch N-1      = 0.0    (\u001b[37m= 0.0\u001b[0m)\n",
            "        └── Best until now = 0.0    (\u001b[37m= 0.0\u001b[0m)\n",
            "\n",
            "===========================================================\n"
          ]
        },
        {
          "output_type": "stream",
          "name": "stderr",
          "text": [
            "Train epoch 3: 100%|██████████| 3/3 [00:03<00:00,  1.23s/it, PPYoloELoss/loss=3.65, PPYoloELoss/loss_cls=1.54, PPYoloELoss/loss_dfl=0.935, PPYoloELoss/loss_iou=0.657, gpu_mem=14.4]\n",
            "Validating epoch 3: 100%|██████████| 1/1 [00:00<00:00,  1.32it/s]\n"
          ]
        },
        {
          "output_type": "stream",
          "name": "stdout",
          "text": [
            "===========================================================\n",
            "SUMMARY OF EPOCH 3\n",
            "├── Train\n",
            "│   ├── Ppyoloeloss/loss_cls = 1.5362\n",
            "│   │   ├── Epoch N-1      = 1.9773 (\u001b[32m↘ -0.4411\u001b[0m)\n",
            "│   │   └── Best until now = 1.5204 (\u001b[31m↗ 0.0158\u001b[0m)\n",
            "│   ├── Ppyoloeloss/loss_iou = 0.6575\n",
            "│   │   ├── Epoch N-1      = 0.6545 (\u001b[31m↗ 0.003\u001b[0m)\n",
            "│   │   └── Best until now = 0.6545 (\u001b[31m↗ 0.003\u001b[0m)\n",
            "│   ├── Ppyoloeloss/loss_dfl = 0.9353\n",
            "│   │   ├── Epoch N-1      = 1.1055 (\u001b[32m↘ -0.1702\u001b[0m)\n",
            "│   │   └── Best until now = 1.1055 (\u001b[32m↘ -0.1702\u001b[0m)\n",
            "│   └── Ppyoloeloss/loss = 3.6475\n",
            "│       ├── Epoch N-1      = 4.1662 (\u001b[32m↘ -0.5187\u001b[0m)\n",
            "│       └── Best until now = 4.0117 (\u001b[32m↘ -0.3642\u001b[0m)\n",
            "└── Validation\n",
            "    ├── Ppyoloeloss/loss_cls = 0.0269\n",
            "    │   ├── Epoch N-1      = 2.0864 (\u001b[32m↘ -2.0596\u001b[0m)\n",
            "    │   └── Best until now = 1.3326 (\u001b[32m↘ -1.3057\u001b[0m)\n",
            "    ├── Ppyoloeloss/loss_iou = 0.0\n",
            "    │   ├── Epoch N-1      = 0.0169 (\u001b[32m↘ -0.0168\u001b[0m)\n",
            "    │   └── Best until now = 0.0169 (\u001b[32m↘ -0.0168\u001b[0m)\n",
            "    ├── Ppyoloeloss/loss_dfl = 0.0004\n",
            "    │   ├── Epoch N-1      = 0.096  (\u001b[32m↘ -0.0955\u001b[0m)\n",
            "    │   └── Best until now = 0.096  (\u001b[32m↘ -0.0955\u001b[0m)\n",
            "    ├── Ppyoloeloss/loss = 0.0272\n",
            "    │   ├── Epoch N-1      = 2.1766 (\u001b[32m↘ -2.1494\u001b[0m)\n",
            "    │   └── Best until now = 2.1766 (\u001b[32m↘ -2.1494\u001b[0m)\n",
            "    ├── Precision@0.50 = 0.0\n",
            "    │   ├── Epoch N-1      = 0.0    (\u001b[37m= 0.0\u001b[0m)\n",
            "    │   └── Best until now = 0.0    (\u001b[37m= 0.0\u001b[0m)\n",
            "    ├── Recall@0.50 = 0.0\n",
            "    │   ├── Epoch N-1      = 0.0    (\u001b[37m= 0.0\u001b[0m)\n",
            "    │   └── Best until now = 0.0    (\u001b[37m= 0.0\u001b[0m)\n",
            "    ├── Map@0.50 = 0.0\n",
            "    │   ├── Epoch N-1      = 0.0    (\u001b[37m= 0.0\u001b[0m)\n",
            "    │   └── Best until now = 0.0    (\u001b[37m= 0.0\u001b[0m)\n",
            "    └── F1@0.50 = 0.0\n",
            "        ├── Epoch N-1      = 0.0    (\u001b[37m= 0.0\u001b[0m)\n",
            "        └── Best until now = 0.0    (\u001b[37m= 0.0\u001b[0m)\n",
            "\n",
            "===========================================================\n"
          ]
        },
        {
          "output_type": "stream",
          "name": "stderr",
          "text": [
            "Train epoch 4: 100%|██████████| 3/3 [00:04<00:00,  1.44s/it, PPYoloELoss/loss=4.55, PPYoloELoss/loss_cls=2.76, PPYoloELoss/loss_dfl=0.963, PPYoloELoss/loss_iou=0.522, gpu_mem=12.5]\n",
            "Validating epoch 4: 100%|██████████| 1/1 [00:00<00:00,  1.25it/s]\n"
          ]
        },
        {
          "output_type": "stream",
          "name": "stdout",
          "text": [
            "===========================================================\n",
            "SUMMARY OF EPOCH 4\n",
            "├── Train\n",
            "│   ├── Ppyoloeloss/loss_cls = 2.7627\n",
            "│   │   ├── Epoch N-1      = 1.5362 (\u001b[31m↗ 1.2265\u001b[0m)\n",
            "│   │   └── Best until now = 1.5204 (\u001b[31m↗ 1.2423\u001b[0m)\n",
            "│   ├── Ppyoloeloss/loss_iou = 0.5219\n",
            "│   │   ├── Epoch N-1      = 0.6575 (\u001b[32m↘ -0.1356\u001b[0m)\n",
            "│   │   └── Best until now = 0.6545 (\u001b[32m↘ -0.1326\u001b[0m)\n",
            "│   ├── Ppyoloeloss/loss_dfl = 0.9629\n",
            "│   │   ├── Epoch N-1      = 0.9353 (\u001b[31m↗ 0.0277\u001b[0m)\n",
            "│   │   └── Best until now = 0.9353 (\u001b[31m↗ 0.0277\u001b[0m)\n",
            "│   └── Ppyoloeloss/loss = 4.5489\n",
            "│       ├── Epoch N-1      = 3.6475 (\u001b[31m↗ 0.9014\u001b[0m)\n",
            "│       └── Best until now = 3.6475 (\u001b[31m↗ 0.9014\u001b[0m)\n",
            "└── Validation\n",
            "    ├── Ppyoloeloss/loss_cls = 117364.586\n",
            "    │   ├── Epoch N-1      = 0.0269 (\u001b[31m↗ 117364.555\u001b[0m)\n",
            "    │   └── Best until now = 0.0269 (\u001b[31m↗ 117364.555\u001b[0m)\n",
            "    ├── Ppyoloeloss/loss_iou = 0.0\n",
            "    │   ├── Epoch N-1      = 0.0    (\u001b[32m↘ -0.0\u001b[0m)\n",
            "    │   └── Best until now = 0.0    (\u001b[32m↘ -0.0\u001b[0m)\n",
            "    ├── Ppyoloeloss/loss_dfl = 0.0\n",
            "    │   ├── Epoch N-1      = 0.0004 (\u001b[32m↘ -0.0004\u001b[0m)\n",
            "    │   └── Best until now = 0.0004 (\u001b[32m↘ -0.0004\u001b[0m)\n",
            "    ├── Ppyoloeloss/loss = 117364.586\n",
            "    │   ├── Epoch N-1      = 0.0272 (\u001b[31m↗ 117364.555\u001b[0m)\n",
            "    │   └── Best until now = 0.0272 (\u001b[31m↗ 117364.555\u001b[0m)\n",
            "    ├── Precision@0.50 = 0.0\n",
            "    │   ├── Epoch N-1      = 0.0    (\u001b[37m= 0.0\u001b[0m)\n",
            "    │   └── Best until now = 0.0    (\u001b[37m= 0.0\u001b[0m)\n",
            "    ├── Recall@0.50 = 0.0\n",
            "    │   ├── Epoch N-1      = 0.0    (\u001b[37m= 0.0\u001b[0m)\n",
            "    │   └── Best until now = 0.0    (\u001b[37m= 0.0\u001b[0m)\n",
            "    ├── Map@0.50 = 0.0\n",
            "    │   ├── Epoch N-1      = 0.0    (\u001b[37m= 0.0\u001b[0m)\n",
            "    │   └── Best until now = 0.0    (\u001b[37m= 0.0\u001b[0m)\n",
            "    └── F1@0.50 = 0.0\n",
            "        ├── Epoch N-1      = 0.0    (\u001b[37m= 0.0\u001b[0m)\n",
            "        └── Best until now = 0.0    (\u001b[37m= 0.0\u001b[0m)\n",
            "\n",
            "===========================================================\n"
          ]
        },
        {
          "output_type": "stream",
          "name": "stderr",
          "text": [
            "[2023-10-27 10:44:06] INFO - sg_trainer.py - RUNNING ADDITIONAL TEST ON THE AVERAGED MODEL...\n",
            "Validating epoch 5: 100%|██████████| 1/1 [00:00<00:00,  1.43it/s]\n"
          ]
        }
      ]
    },
    {
      "cell_type": "code",
      "source": [
        "%load_ext tensorboard\n",
        "%tensorboard --logdir {CHECKPOINT_DIR}/{EXPERIMENT_NAME}"
      ],
      "metadata": {
        "colab": {
          "base_uri": "https://localhost:8080/",
          "height": 908
        },
        "id": "rGJgHmef7Y88",
        "outputId": "cb38ef17-dc33-4cb2-fe8a-bf2a1b1f4251"
      },
      "execution_count": 19,
      "outputs": [
        {
          "output_type": "display_data",
          "data": {
            "text/plain": [
              "<IPython.core.display.Javascript object>"
            ],
            "application/javascript": [
              "\n",
              "        (async () => {\n",
              "            const url = new URL(await google.colab.kernel.proxyPort(6006, {'cache': true}));\n",
              "            url.searchParams.set('tensorboardColab', 'true');\n",
              "            const iframe = document.createElement('iframe');\n",
              "            iframe.src = url;\n",
              "            iframe.setAttribute('width', '100%');\n",
              "            iframe.setAttribute('height', '800');\n",
              "            iframe.setAttribute('frameborder', 0);\n",
              "            document.body.appendChild(iframe);\n",
              "        })();\n",
              "    "
            ]
          },
          "metadata": {}
        },
        {
          "output_type": "stream",
          "name": "stdout",
          "text": [
            " (deflated 8%)\n",
            "  adding: content/checkpoints/pipe_inventory/RUN_20231027_104202_028677/events.out.tfevents.1698403447.9bbb30b968d5.169.1 (deflated 43%)\n",
            "  adding: content/checkpoints/pipe_inventory/RUN_20231027_104202_028677/console_Oct27_10_42_02.txt (deflated 85%)\n",
            "  adding: content/checkpoints/pipe_inventory/RUN_20231027_104202_028677/experiment_logs_Oct27_10_42_02.txt (deflated 74%)\n",
            "  adding: content/checkpoints/pipe_inventory/RUN_20231027_104202_028677/events.out.tfevents.1698403322.9bbb30b968d5.169.0 (deflated 87%)\n"
          ]
        }
      ]
    },
    {
      "cell_type": "code",
      "source": [
        "import locale\n",
        "locale.getpreferredencoding = lambda: \"UTF-8\""
      ],
      "metadata": {
        "id": "uv1GObMb9TJy"
      },
      "execution_count": 17,
      "outputs": []
    },
    {
      "cell_type": "code",
      "source": [
        "!zip -r yolo_nas.zip {CHECKPOINT_DIR}/{EXPERIMENT_NAME}"
      ],
      "metadata": {
        "colab": {
          "base_uri": "https://localhost:8080/"
        },
        "id": "WyZfVLbn7_2Y",
        "outputId": "6cfe09ee-eef3-4832-b8b7-45179dcf0ea7"
      },
      "execution_count": 18,
      "outputs": [
        {
          "output_type": "stream",
          "name": "stdout",
          "text": [
            "  adding: content/checkpoints/pipe_inventory/ (stored 0%)\n",
            "  adding: content/checkpoints/pipe_inventory/RUN_20231027_104202_028677/ (stored 0%)\n",
            "  adding: content/checkpoints/pipe_inventory/RUN_20231027_104202_028677/ckpt_best.pth (deflated 8%)\n",
            "  adding: content/checkpoints/pipe_inventory/RUN_20231027_104202_028677/ckpt_latest.pth (deflated 8%)\n",
            "  adding: content/checkpoints/pipe_inventory/RUN_20231027_104202_028677/logs_Oct27_10_42_02.txt (deflated 74%)\n",
            "  adding: content/checkpoints/pipe_inventory/RUN_20231027_104202_028677/average_model.pth"
          ]
        }
      ]
    },
    {
      "cell_type": "code",
      "source": [
        " best_model = models.get(\n",
        "    MODEL_ARCH,\n",
        "    num_classes=len(dataset_params['classes']),\n",
        "    checkpoint_path=f\"/content/checkpoints/pipe_inventory/RUN_20231027_104202_028677/average_model.pth\"\n",
        ").to(DEVICE)"
      ],
      "metadata": {
        "colab": {
          "base_uri": "https://localhost:8080/"
        },
        "id": "qQfNZ1bP8DTf",
        "outputId": "0ac990c2-1436-4481-9dcb-6c052c53efeb"
      },
      "execution_count": 22,
      "outputs": [
        {
          "output_type": "stream",
          "name": "stderr",
          "text": [
            "[2023-10-27 10:53:05] INFO - checkpoint_utils.py - Successfully loaded model weights from /content/checkpoints/pipe_inventory/RUN_20231027_104202_028677/average_model.pth EMA checkpoint.\n"
          ]
        }
      ]
    },
    {
      "cell_type": "code",
      "source": [
        "trainer.test(\n",
        "    model=best_model,\n",
        "    test_loader=test_data,\n",
        "    test_metrics_list=DetectionMetrics_050(\n",
        "        score_thres=0.1,\n",
        "        top_k_predictions=300,\n",
        "        num_cls=len(dataset_params['classes']),\n",
        "        normalize_targets=True,\n",
        "        post_prediction_callback=PPYoloEPostPredictionCallback(\n",
        "            score_threshold=0.01,\n",
        "            nms_top_k=1000,\n",
        "            max_predictions=300,\n",
        "            nms_threshold=0.7\n",
        "        )\n",
        "    )\n",
        ")"
      ],
      "metadata": {
        "colab": {
          "base_uri": "https://localhost:8080/"
        },
        "id": "OJKuCa74-_sF",
        "outputId": "e9a2eba1-6319-4eb3-febe-39639c221ba5"
      },
      "execution_count": 23,
      "outputs": [
        {
          "output_type": "stream",
          "name": "stderr",
          "text": [
            "Testing: 100%|██████████| 1/1 [00:00<00:00,  1.18it/s]"
          ]
        },
        {
          "output_type": "execute_result",
          "data": {
            "text/plain": [
              "{'PPYoloELoss/loss_cls': 93801.3,\n",
              " 'PPYoloELoss/loss_iou': 2.6571065e-06,\n",
              " 'PPYoloELoss/loss_dfl': 6.069238e-05,\n",
              " 'PPYoloELoss/loss': 93801.3,\n",
              " 'Precision@0.50': 0.0,\n",
              " 'Recall@0.50': 0.0,\n",
              " 'mAP@0.50': 0.0,\n",
              " 'F1@0.50': 0.0}"
            ]
          },
          "metadata": {},
          "execution_count": 23
        }
      ]
    },
    {
      "cell_type": "code",
      "source": [
        "import supervision as sv\n",
        "\n",
        "ds = sv.DetectionDataset.from_yolo(\n",
        "    images_directory_path=f\"/content/pipe-inventory-2/test/images\",\n",
        "    annotations_directory_path=f\"/content/pipe-inventory-2/test/labels\",\n",
        "    data_yaml_path=f\"/content/pipe-inventory-2/data.yaml\",\n",
        "    force_masks=False\n",
        ")"
      ],
      "metadata": {
        "id": "zu88mfG0_FAj"
      },
      "execution_count": 1,
      "outputs": []
    },
    {
      "cell_type": "code",
      "source": [],
      "metadata": {
        "id": "k-6pT9AR_Jhj"
      },
      "execution_count": null,
      "outputs": []
    }
  ]
}